{
 "cells": [
  {
   "cell_type": "code",
   "execution_count": 1,
   "metadata": {},
   "outputs": [],
   "source": [
    "from PIL import Image\n",
    "import struct"
   ]
  },
  {
   "cell_type": "code",
   "execution_count": 37,
   "metadata": {},
   "outputs": [],
   "source": [
    "def getpixelByBitmapWay(imgp, size, x, y):\n",
    "    pix = imgp[x, size-y-1]\n",
    "    if pix[3] == 0:\n",
    "        pix = (0,0,0,0)\n",
    "    return pix\n",
    "\n",
    "def generateMask(imgSize, imgp):\n",
    "    bitmapImgMask = bytes()\n",
    "    for y in range(imgSize):\n",
    "        for x in range(0, imgSize, 8):\n",
    "            pix = [getpixelByBitmapWay(imgp, imgSize, _i, y)[3] for _i in range(x,x+8)]\n",
    "            pix = sum(pix)//8\n",
    "            bitmapImgMask += struct.pack(\n",
    "                r'B', pix\n",
    "            )\n",
    "    return bitmapImgMask\n",
    "\n",
    "def imageToBitmap(img):\n",
    "    if img.size[0] != img.size[1]:\n",
    "        raise ValueError('img.size %s'%(img.size))\n",
    "    \n",
    "    imgSize = img.size[0]\n",
    "    img = img.convert('RGBA')\n",
    "    imgp = img.load()\n",
    "    \n",
    "    bitmapInfoHeader = struct.pack(\n",
    "        r'IllHHIIllII',\n",
    "        40, imgSize, imgSize*2,\n",
    "        1, 32, 0, imgSize**2*4,\n",
    "        0, 0, 0, 0\n",
    "    )\n",
    "    \n",
    "    bitmapImgData = bytes()\n",
    "    for y in range(imgSize):\n",
    "        for x in range(imgSize):\n",
    "            bitmapImgData += struct.pack(\n",
    "                r'BBBB',\n",
    "                *getpixelByBitmapWay(imgp, imgSize, x, y)\n",
    "            )\n",
    "\n",
    "    bitmapImgMask = generateMask(imgSize, imgp)\n",
    "    \n",
    "    return bitmapInfoHeader + bitmapImgData + bitmapImgMask"
   ]
  },
  {
   "cell_type": "code",
   "execution_count": 43,
   "metadata": {},
   "outputs": [],
   "source": [
    "def generateIcon(ipath, size_list=[16,32,64,128,256]):\n",
    "    for e in size_list:\n",
    "        if e <= 0 or e > 256:\n",
    "            raise ValueError('size_list %s'%e)\n",
    "    size_list.sort()\n",
    "    \n",
    "    imgraw = Image.open(ipath)\n",
    "\n",
    "    if imgraw.size[0] != imgraw.size[1]:\n",
    "        raise ValueError('img.size %s'%(img.size))\n",
    "        \n",
    "    \n",
    "    iconHeader = struct.pack(\n",
    "        r'HHH',\n",
    "        0, 1, len(size_list)\n",
    "    )\n",
    "    \n",
    "    bitmapDatas = []\n",
    "    for nsize in size_list:\n",
    "        img = imgraw.resize((nsize,nsize), Image.ANTIALIAS)\n",
    "        bitmapDatas.append(imageToBitmap(img))\n",
    "    \n",
    "    iconEntries = []\n",
    "    ptr = 6 + len(size_list)*16\n",
    "    for nsize, bitmapdata in zip(size_list, bitmapDatas):\n",
    "        if nsize == 256:\n",
    "            nsize = 0\n",
    "        datalen = len(bitmapdata)\n",
    "        iconEntries.append(\n",
    "            struct.pack(\n",
    "                r'BBBBHHII',\n",
    "                nsize, nsize, 0, 0,\n",
    "                1, 32, datalen, ptr\n",
    "            )\n",
    "        )\n",
    "        ptr += datalen\n",
    "    \n",
    "    fileBytes = iconHeader\n",
    "    for e in iconEntries:\n",
    "        fileBytes += e\n",
    "    for e in bitmapDatas:\n",
    "        fileBytes += e\n",
    "    \n",
    "    return fileBytes"
   ]
  },
  {
   "cell_type": "code",
   "execution_count": 45,
   "metadata": {},
   "outputs": [],
   "source": [
    "with open('./test.ico','wb') as f:\n",
    "    f.write(generateIcon('./icon.png'))"
   ]
  }
 ],
 "metadata": {
  "kernelspec": {
   "display_name": "Python 3",
   "language": "python",
   "name": "python3"
  },
  "language_info": {
   "codemirror_mode": {
    "name": "ipython",
    "version": 3
   },
   "file_extension": ".py",
   "mimetype": "text/x-python",
   "name": "python",
   "nbconvert_exporter": "python",
   "pygments_lexer": "ipython3",
   "version": "3.7.2"
  }
 },
 "nbformat": 4,
 "nbformat_minor": 2
}
